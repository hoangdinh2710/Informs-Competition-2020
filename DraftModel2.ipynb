{
 "cells": [
  {
   "cell_type": "code",
   "execution_count": 1,
   "metadata": {},
   "outputs": [],
   "source": [
    "# Import package\n",
    "from docplex.mp.model import Model\n",
    "import pandas as pd \n",
    "import numpy as np"
   ]
  },
  {
   "cell_type": "code",
   "execution_count": 2,
   "metadata": {},
   "outputs": [],
   "source": [
    "# Example case: 2 Plant, 2 Color, 2 Flavor, 2 Packing ID\n",
    "plant_id = ['Plant1','Plant2']\n",
    "color_id = ['C1','C2']\n",
    "flavor_id =['F1','F2']\n",
    "packing_id = ['bag','box']"
   ]
  },
  {
   "cell_type": "code",
   "execution_count": 3,
   "metadata": {},
   "outputs": [],
   "source": [
    "# 16 demands\n",
    "demand = [3000,2000,4500,3000,2000,2500,3600,3125,3300,2450,4240,3100,2450,2580,3420,3150]\n",
    "# 4 costs\n",
    "cost = [0.25,2.42,0.26,2.38]\n",
    "\n",
    "# Create a list for each combination of plant id and cost\n",
    "plant_packing_list = list((i,j) for i in plant_id for j in packing_id)\n",
    "\n",
    "# Create a dictionary for each plan & type cost\n",
    "plant_packing_cost_dict = dict(zip(plant_packing_list,cost))\n",
    "\n",
    "# Create a dictionary for each product\n",
    "each_cost = {}\n",
    "\n",
    "for a in plant_id:\n",
    "    for b in color_id:\n",
    "        for c in flavor_id:\n",
    "            for d in packing_id:\n",
    "                for i in plant_packing_list:\n",
    "                    if (a,d) == i:\n",
    "                        each_cost[(a,b,c,d)] = plant_packing_cost_dict[i]\n",
    "\n",
    "# Create a dictionary for demand\n",
    "demand_dict = dict(zip([(a,b,c,d) for a in plant_id for b in color_id for c in flavor_id for d in packing_id ],demand))\n",
    "                "
   ]
  },
  {
   "cell_type": "markdown",
   "metadata": {},
   "source": [
    "## Create model"
   ]
  },
  {
   "cell_type": "code",
   "execution_count": 4,
   "metadata": {},
   "outputs": [],
   "source": [
    "# create one model instance, with a name\n",
    "m = Model(name='Inform')"
   ]
  },
  {
   "cell_type": "markdown",
   "metadata": {},
   "source": [
    "## Create decision variables"
   ]
  },
  {
   "cell_type": "code",
   "execution_count": 5,
   "metadata": {},
   "outputs": [],
   "source": [
    "# Decision variable\n",
    "qty_produce = {(a,b,c,d): m.integer_var(name = '{0}_{1}_{2}_{3}'.format(a,b,c,d)) \n",
    "               for a in plant_id \n",
    "               for b in color_id \n",
    "               for c in flavor_id \n",
    "               for d in packing_id }\n"
   ]
  },
  {
   "cell_type": "code",
   "execution_count": 13,
   "metadata": {},
   "outputs": [
    {
     "data": {
      "text/plain": [
       "{('Plant1', 'C1', 'F1', 'bag'): docplex.mp.Var(type=I,name='Plant1_C1_F1_bag'),\n",
       " ('Plant1', 'C1', 'F1', 'box'): docplex.mp.Var(type=I,name='Plant1_C1_F1_box'),\n",
       " ('Plant1', 'C1', 'F2', 'bag'): docplex.mp.Var(type=I,name='Plant1_C1_F2_bag'),\n",
       " ('Plant1', 'C1', 'F2', 'box'): docplex.mp.Var(type=I,name='Plant1_C1_F2_box'),\n",
       " ('Plant1', 'C2', 'F1', 'bag'): docplex.mp.Var(type=I,name='Plant1_C2_F1_bag'),\n",
       " ('Plant1', 'C2', 'F1', 'box'): docplex.mp.Var(type=I,name='Plant1_C2_F1_box'),\n",
       " ('Plant1', 'C2', 'F2', 'bag'): docplex.mp.Var(type=I,name='Plant1_C2_F2_bag'),\n",
       " ('Plant1', 'C2', 'F2', 'box'): docplex.mp.Var(type=I,name='Plant1_C2_F2_box'),\n",
       " ('Plant2', 'C1', 'F1', 'bag'): docplex.mp.Var(type=I,name='Plant2_C1_F1_bag'),\n",
       " ('Plant2', 'C1', 'F1', 'box'): docplex.mp.Var(type=I,name='Plant2_C1_F1_box'),\n",
       " ('Plant2', 'C1', 'F2', 'bag'): docplex.mp.Var(type=I,name='Plant2_C1_F2_bag'),\n",
       " ('Plant2', 'C1', 'F2', 'box'): docplex.mp.Var(type=I,name='Plant2_C1_F2_box'),\n",
       " ('Plant2', 'C2', 'F1', 'bag'): docplex.mp.Var(type=I,name='Plant2_C2_F1_bag'),\n",
       " ('Plant2', 'C2', 'F1', 'box'): docplex.mp.Var(type=I,name='Plant2_C2_F1_box'),\n",
       " ('Plant2', 'C2', 'F2', 'bag'): docplex.mp.Var(type=I,name='Plant2_C2_F2_bag'),\n",
       " ('Plant2', 'C2', 'F2', 'box'): docplex.mp.Var(type=I,name='Plant2_C2_F2_box')}"
      ]
     },
     "execution_count": 13,
     "metadata": {},
     "output_type": "execute_result"
    }
   ],
   "source": [
    "qty_produce"
   ]
  },
  {
   "cell_type": "markdown",
   "metadata": {},
   "source": [
    "## Add constraints"
   ]
  },
  {
   "cell_type": "code",
   "execution_count": 6,
   "metadata": {},
   "outputs": [
    {
     "data": {
      "text/plain": [
       "[docplex.mp.LinearConstraint[](Plant1_C1_F1_bag,GE,3000),\n",
       " docplex.mp.LinearConstraint[](Plant1_C1_F1_box,GE,2000),\n",
       " docplex.mp.LinearConstraint[](Plant1_C1_F2_bag,GE,4500),\n",
       " docplex.mp.LinearConstraint[](Plant1_C1_F2_box,GE,3000),\n",
       " docplex.mp.LinearConstraint[](Plant1_C2_F1_bag,GE,2000),\n",
       " docplex.mp.LinearConstraint[](Plant1_C2_F1_box,GE,2500),\n",
       " docplex.mp.LinearConstraint[](Plant1_C2_F2_bag,GE,3600),\n",
       " docplex.mp.LinearConstraint[](Plant1_C2_F2_box,GE,3125),\n",
       " docplex.mp.LinearConstraint[](Plant2_C1_F1_bag,GE,3300),\n",
       " docplex.mp.LinearConstraint[](Plant2_C1_F1_box,GE,2450),\n",
       " docplex.mp.LinearConstraint[](Plant2_C1_F2_bag,GE,4240),\n",
       " docplex.mp.LinearConstraint[](Plant2_C1_F2_box,GE,3100),\n",
       " docplex.mp.LinearConstraint[](Plant2_C2_F1_bag,GE,2450),\n",
       " docplex.mp.LinearConstraint[](Plant2_C2_F1_box,GE,2580),\n",
       " docplex.mp.LinearConstraint[](Plant2_C2_F2_bag,GE,3420),\n",
       " docplex.mp.LinearConstraint[](Plant2_C2_F2_box,GE,3150)]"
      ]
     },
     "execution_count": 6,
     "metadata": {},
     "output_type": "execute_result"
    }
   ],
   "source": [
    "# Add sum_qty contraints\n",
    "sum_qty = m.sum(qty_produce)\n",
    "m.add_constraint(sum_qty == 60000)\n",
    "# Produce more than demand for each product type\n",
    "m.add_constraints(qty_produce[(a,b,c,d)] >= demand_dict[(a,b,c,d)] for a in plant_id for b in color_id for c in flavor_id for d in packing_id )"
   ]
  },
  {
   "cell_type": "markdown",
   "metadata": {},
   "source": [
    "## Objective"
   ]
  },
  {
   "cell_type": "code",
   "execution_count": 7,
   "metadata": {},
   "outputs": [],
   "source": [
    "# Total Cost\n",
    "total_cost = m.sum(qty_produce[(a,b,c,d)]*each_cost.get((a,b,c,d)) for a in plant_id for b in color_id for c in flavor_id for d in packing_id)\n",
    "# Minize Cost\n",
    "m.minimize(total_cost)"
   ]
  },
  {
   "cell_type": "markdown",
   "metadata": {},
   "source": [
    "## Solve for solutions"
   ]
  },
  {
   "cell_type": "code",
   "execution_count": 8,
   "metadata": {},
   "outputs": [
    {
     "name": "stdout",
     "output_type": "stream",
     "text": [
      "solution for: Inform\n",
      "objective: 62216.8\n",
      "Plant1_C1_F1_bag=14585\n",
      "Plant1_C1_F1_box=2000\n",
      "Plant1_C1_F2_bag=4500\n",
      "Plant1_C1_F2_box=3000\n",
      "Plant1_C2_F1_bag=2000\n",
      "Plant1_C2_F1_box=2500\n",
      "Plant1_C2_F2_bag=3600\n",
      "Plant1_C2_F2_box=3125\n",
      "Plant2_C1_F1_bag=3300\n",
      "Plant2_C1_F1_box=2450\n",
      "Plant2_C1_F2_bag=4240\n",
      "Plant2_C1_F2_box=3100\n",
      "Plant2_C2_F1_bag=2450\n",
      "Plant2_C2_F1_box=2580\n",
      "Plant2_C2_F2_bag=3420\n",
      "Plant2_C2_F2_box=3150\n",
      "\n"
     ]
    }
   ],
   "source": [
    "# Solve\n",
    "m.solve()\n",
    "# Print soluation\n",
    "print(m.solution)"
   ]
  }
 ],
 "metadata": {
  "kernelspec": {
   "display_name": "Python 3",
   "language": "python",
   "name": "python3"
  },
  "language_info": {
   "codemirror_mode": {
    "name": "ipython",
    "version": 3
   },
   "file_extension": ".py",
   "mimetype": "text/x-python",
   "name": "python",
   "nbconvert_exporter": "python",
   "pygments_lexer": "ipython3",
   "version": "3.7.5"
  }
 },
 "nbformat": 4,
 "nbformat_minor": 4
}
