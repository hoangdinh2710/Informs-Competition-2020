{
 "cells": [
  {
   "cell_type": "code",
   "execution_count": 1,
   "metadata": {},
   "outputs": [],
   "source": [
    "# Import package\n",
    "from docplex.cp.model import CpoModel\n",
    "import pandas as pd \n",
    "import numpy as np"
   ]
  },
  {
   "cell_type": "markdown",
   "metadata": {},
   "source": [
    "# Step 1:  \n",
    "Define the model"
   ]
  },
  {
   "cell_type": "code",
   "execution_count": 2,
   "metadata": {},
   "outputs": [],
   "source": [
    "m  = CpoModel(name='informs')"
   ]
  },
  {
   "cell_type": "markdown",
   "metadata": {},
   "source": [
    "# Step 2:\n",
    "Load data table\n"
   ]
  },
  {
   "cell_type": "markdown",
   "metadata": {},
   "source": [
    "# Classifer Rate (Reference)"
   ]
  },
  {
   "cell_type": "code",
   "execution_count": 3,
   "metadata": {},
   "outputs": [],
   "source": [
    "# Read file\n",
    "classifier_df = pd.read_csv(r'C:\\Users\\hoang\\Google Drive\\INFORM_COMPETITION\\DATA\\Table 9\\Classifier.csv')\n",
    "\n",
    "cl_site = classifier_df['Site']\n",
    "cl_processing_rate = classifier_df['Processing_Rate']\n",
    "\n",
    "cl_rate_dict = dict(zip(cl_site,cl_processing_rate))"
   ]
  },
  {
   "cell_type": "markdown",
   "metadata": {},
   "source": [
    "# Pre-finish Rate (Reference)"
   ]
  },
  {
   "cell_type": "code",
   "execution_count": 4,
   "metadata": {},
   "outputs": [],
   "source": [
    "# Read file\n",
    "pre_finish_df = pd.read_csv(r'C:\\Users\\hoang\\Google Drive\\INFORM_COMPETITION\\DATA\\Table 10\\Pre-finish.csv')\n",
    "# Use average rate\n",
    "pre_finish_df_new = pre_finish_df.groupby(['Site','Size','Flavor'],as_index= False).mean()\n",
    "\n",
    "#\n",
    "#pre_finish_detroit_df = pre_finish_df[pre_finish_df['Site'] =='Detroit']\n",
    "\n",
    "pf_site = pre_finish_df_new['Site']\n",
    "pf_size = pre_finish_df_new['Size']\n",
    "pf_flavor = pre_finish_df_new['Flavor']\n",
    "pf_processing_rate = pre_finish_df_new['Processing_Rate']\n",
    "\n",
    "# Define list\n",
    "pf_site_size_color_rate_list = list(zip(pf_site,pf_size,pf_flavor))\n",
    "\n",
    "# Define dictionary to store processing rate\n",
    "pf_site_size_color_rate_dict = dict(zip(pf_site_size_color_rate_list,pf_processing_rate))"
   ]
  },
  {
   "cell_type": "markdown",
   "metadata": {},
   "source": [
    "# RMI Step (Raw Material Inventory Store)"
   ]
  },
  {
   "cell_type": "code",
   "execution_count": 6,
   "metadata": {},
   "outputs": [],
   "source": [
    "# Read file\n",
    "rmi_inventory_df = pd.read_csv(r'C:\\Users\\hoang\\Google Drive\\INFORM_COMPETITION\\DATA\\Table 2\\RMI Inventory Level.csv')\n",
    "\n",
    "# Create a dictionary store capacity & qty for each drum\n",
    "\n",
    "# Create list\n",
    "rmi_location = rmi_inventory_df['Location']\n",
    "rmi_capacity = rmi_inventory_df['Capacity']\n",
    "rmi_drum =  rmi_inventory_df['RMI Drum']\n",
    "rmi_color = rmi_inventory_df['Color']\n",
    "rmi_qty = rmi_inventory_df['Qty in pounds']\n",
    "\n",
    "# Create list to store location & drum together\n",
    "rmi_loc_drum_list = list(zip(rmi_location,rmi_drum))\n",
    "\n",
    "# Create dictionary\n",
    "rmi_loc_drum_color_dict = dict(zip(rmi_loc_drum_list,rmi_color))\n",
    "\n",
    "rmi_loc_drum_cap_dict = dict(zip(rmi_loc_drum_list,rmi_capacity))\n",
    "\n",
    "rmi_loc_drum_qty_dict = dict(zip(rmi_loc_drum_list,rmi_qty))\n",
    "\n",
    "# Create new column to calculate the processing rate\n",
    "condition = [rmi_inventory_df['Location'] == 'Detroit',\n",
    "            rmi_inventory_df['Location'] == 'Columbus',\n",
    "            rmi_inventory_df['Location'] == 'Green Bay',\n",
    "            rmi_inventory_df['Location'] == 'Springfield',\n",
    "            rmi_inventory_df['Location'] == 'Omaha']\n",
    "\n",
    "choice = [3420,2280,2050,1260,4440]\n",
    "\n",
    "rmi_inventory_df['Rate'] = np.select(condition,choice, default=0)\n",
    "rmi_inventory_df['TimeProcess'] = rmi_inventory_df['Qty in pounds'] / rmi_inventory_df['Rate'] \n",
    "\n",
    "# fill na in rmi_inventory_df['TimeProcess']\n",
    "\n",
    "rmi_inventory_df['TimeProcess'] = rmi_inventory_df['TimeProcess'].fillna(0)\n",
    "# Create list\n",
    "rmi_time_process= rmi_inventory_df['TimeProcess']\n",
    "# Create dictionary to record time to process \n",
    "\n",
    "rmi_loc_drum_timeprocess_dict = dict(zip(rmi_loc_drum_list,rmi_time_process))"
   ]
  },
  {
   "cell_type": "markdown",
   "metadata": {},
   "source": [
    "# Clasifier Step (Split into 5 sizes)"
   ]
  },
  {
   "cell_type": "code",
   "execution_count": 10,
   "metadata": {},
   "outputs": [],
   "source": [
    "# Read file\n",
    "cs_df = pd.read_csv(r'C:\\Users\\hoang\\Google Drive\\INFORM_COMPETITION\\DATA\\Table 3\\Classifier Split.csv')\n",
    "\n",
    "# Rename columns: Fix space after column name\n",
    "cs_df.columns = ['Color','Size','Percentage']\n",
    "\n",
    "# Define all the colors\n",
    "cs_color = cs_df['Color']\n",
    "# Define all size\n",
    "cs_size = cs_df['Size']\n",
    "# Store percentage split in list\n",
    "cs_pct_split = cs_df['Percentage']\n",
    "\n",
    "# Combine color and size (tuple)\n",
    "cs_color_size_list = list(zip(cs_color,cs_size))\n",
    "# Dictionary for classifer for each color and size percentage\n",
    "cs_color_size_pct_dict = dict(zip(cs_color_size_list,cs_pct_split))"
   ]
  },
  {
   "cell_type": "markdown",
   "metadata": {},
   "source": [
    "# PFI Step (Pre-finish Inventory: store in different drum: unique color & sizes)"
   ]
  },
  {
   "cell_type": "code",
   "execution_count": 28,
   "metadata": {},
   "outputs": [],
   "source": [
    "# Read file\n",
    "pfi_drum_df = pd.read_csv(r'C:\\Users\\hoang\\Google Drive\\INFORM_COMPETITION\\DATA\\Table 7\\Pre-finish Inventory Drum.csv')\n",
    "\n",
    "# Filter only for detroits\n",
    "#pfi_drum_detroit_df =  pfi_drum_df[pfi_drum_df['Site'] == 'Detroit, MI']\n",
    "\n",
    "# Create list for location & capacity & drum\n",
    "pfi_location = pfi_drum_df['Location']\n",
    "pfi_capacity = pfi_drum_df['Capacity In pounds']\n",
    "pfi_drum = pfi_drum_df['Drum Number']\n",
    "\n",
    "# Define list zip location and drum\n",
    "pfi_loc_drum_list = list(zip(pfi_location,pfi_drum))\n",
    "\n",
    "# Define dictionary\n",
    "pfi_loc_drum_cap_dict = dict(zip(pfi_loc_drum,pfi_capacity))"
   ]
  },
  {
   "cell_type": "markdown",
   "metadata": {},
   "source": [
    "# PFO Step (Pre-finish Operation: adding Flavors)"
   ]
  },
  {
   "cell_type": "markdown",
   "metadata": {},
   "source": [
    "# PI Step ( Pack Inventory: store in different drum: unique color & sizes & flavors)"
   ]
  },
  {
   "cell_type": "code",
   "execution_count": 12,
   "metadata": {
    "jupyter": {
     "source_hidden": true
    }
   },
   "outputs": [],
   "source": [
    "# Read file\n",
    "pi_drum_df = pd.read_csv(r'C:\\Users\\hoang\\Google Drive\\INFORM_COMPETITION\\DATA\\Table 8\\Pack inventory Drum.csv')\n",
    "\n",
    "# Filter only for detroits\n",
    "#pi_drum_detroit_df =  pi_drum_df[pi_drum_df['Site'] == 'Detroit, MI']\n",
    "\n",
    "pi_location = pi_drum_df['Location']\n",
    "pi_capacity = pi_drum_df['Capacity']\n",
    "pi_drum = pi_drum_df['Drum Number']\n",
    "\n",
    "# Define list\n",
    "pi_loc_drum = list(zip(pi_location,pi_drum))\n",
    "\n",
    "# Define dictionary\n",
    "pi_loc_drum_cap_dict = dict(zip(pi_loc_drum,pi_capacity))"
   ]
  },
  {
   "cell_type": "markdown",
   "metadata": {},
   "source": [
    "# PA Step ( Packaging)"
   ]
  },
  {
   "cell_type": "markdown",
   "metadata": {
    "jupyter": {
     "source_hidden": true
    }
   },
   "source": [
    "# Step 3: Declare variables\n",
    "\n",
    "Factory:\n",
    "- Location: Detroit\n",
    "- Number of RMI Drum: 40\n",
    "- Color: 33"
   ]
  },
  {
   "cell_type": "markdown",
   "metadata": {},
   "source": [
    "# Example:\n",
    "\n",
    "Detroit Factory Only"
   ]
  },
  {
   "cell_type": "code",
   "execution_count": 18,
   "metadata": {},
   "outputs": [],
   "source": [
    "# Step 1 \n",
    "rmi_step = {}\n",
    "\n",
    "for loc_drum in rmi_loc_drum_list:\n",
    "    if loc_drum[0] == \"Detroit\":\n",
    "        rmi_step[loc_drum] = m.interval_var(size = int(rmi_loc_drum_timeprocess_dict[loc_drum]), name = loc_drum)\n",
    "        # Classifier step\n",
    "        color_agent = rmi_loc_drum_color_dict[loc_drum]\n",
    "        size_1_qty = cs_color_size_list[(color_agent,'S1')] * rmi_loc_drum_qty_dict[loc_drum]\n",
    "        size_2_qty = cs_color_size_list[(color_agent,'S2')] * rmi_loc_drum_qty_dict[loc_drum]\n",
    "        size_3_qty = cs_color_size_list[(color_agent,'S3')] * rmi_loc_drum_qty_dict[loc_drum]\n",
    "        size_4_qty = cs_color_size_list[(color_agent,'S4')] * rmi_loc_drum_qty_dict[loc_drum]\n",
    "        size_5_qty = cs_color_size_list[(color_agent,'S5')] * rmi_loc_drum_qty_dict[loc_drum]\n",
    "        # Prefinish Inventory\n",
    "        #NOTE: For detroit factory the capacity for all drums in PFI step is 10000\n",
    "        size_1_pfi_drum =  int(size_1_qty)/10000\n",
    "        size_2_pfi_drum =  int(size_1_qty)/10000\n",
    "        size_3_pfi_drum =  int(size_1_qty)/10000\n",
    "        size_4_pfi_drum =  int(size_1_qty)/10000\n",
    "        size_5_pfi_drum =  int(size_1_qty)/10000\n",
    "        # Total number of drum available\n",
    "        # Note: For Detroit factory the number of drums in PFI steps is 15\n",
    "        total_drum_avail = 15 - np.sum(size_1_pfi_drum,size_2_pfi_drum,size_3_pfi_drum,size_4_pfi_drum,size_5_pfi_drum)\n",
    "        # PFO : Adding flavor\n",
    "        "
   ]
  },
  {
   "cell_type": "markdown",
   "metadata": {},
   "source": [
    "# Now we need to determine which drum go first"
   ]
  },
  {
   "cell_type": "code",
   "execution_count": null,
   "metadata": {},
   "outputs": [],
   "source": [
    "# Step 2 \n",
    "pfi_step = {}\n",
    "\n",
    "for loc_drum in pfi_loc_drum_list:\n",
    "    if loc_drum[0] == \"Detroit\":\n",
    "        pfi_step[loc_drum] = m.interval_var(size = int(pfi_loc_drum_timeprocess_dict[loc_drum]), name = loc_drum)\n",
    "        # Classifier step\n",
    "        color_agent = rmi_loc_drum_color_dict[loc_drum]\n",
    "        size_1_qty = cs_color_size_list[(color_agent,'S1')] * rmi_loc_drum_qty_dict[loc_drum]\n",
    "        size_2_qty = cs_color_size_list[(color_agent,'S2')] * rmi_loc_drum_qty_dict[loc_drum]\n",
    "        size_3_qty = cs_color_size_list[(color_agent,'S3')] * rmi_loc_drum_qty_dict[loc_drum]\n",
    "        size_4_qty = cs_color_size_list[(color_agent,'S4')] * rmi_loc_drum_qty_dict[loc_drum]\n",
    "        size_5_qty = cs_color_size_list[(color_agent,'S5')] * rmi_loc_drum_qty_dict[loc_drum]\n",
    "\n"
   ]
  },
  {
   "cell_type": "markdown",
   "metadata": {},
   "source": [
    "# Now we need to determine which drum go first"
   ]
  },
  {
   "cell_type": "code",
   "execution_count": 40,
   "metadata": {},
   "outputs": [],
   "source": [
    "# Pre-finish operation\n",
    "\n",
    "# Assume same rate for all factory \n",
    "\n",
    "# We can calculate how many drum we will put into operation at this step\n",
    "# For this factory: it's 10 drums from PFI step\n",
    "\n",
    "# We will avoid change Flavor, so we can loop through each flavor\n"
   ]
  },
  {
   "cell_type": "code",
   "execution_count": null,
   "metadata": {},
   "outputs": [],
   "source": []
  },
  {
   "cell_type": "code",
   "execution_count": 42,
   "metadata": {},
   "outputs": [
    {
     "data": {
      "text/html": [
       "<div>\n",
       "<style scoped>\n",
       "    .dataframe tbody tr th:only-of-type {\n",
       "        vertical-align: middle;\n",
       "    }\n",
       "\n",
       "    .dataframe tbody tr th {\n",
       "        vertical-align: top;\n",
       "    }\n",
       "\n",
       "    .dataframe thead th {\n",
       "        text-align: right;\n",
       "    }\n",
       "</style>\n",
       "<table border=\"1\" class=\"dataframe\">\n",
       "  <thead>\n",
       "    <tr style=\"text-align: right;\">\n",
       "      <th></th>\n",
       "      <th>Site</th>\n",
       "      <th>Drum Number</th>\n",
       "      <th>Capacity</th>\n",
       "      <th>Location</th>\n",
       "    </tr>\n",
       "  </thead>\n",
       "  <tbody>\n",
       "    <tr>\n",
       "      <th>0</th>\n",
       "      <td>Detroit, MI</td>\n",
       "      <td>FI Drum 1</td>\n",
       "      <td>20,000</td>\n",
       "      <td>Detroit</td>\n",
       "    </tr>\n",
       "    <tr>\n",
       "      <th>1</th>\n",
       "      <td>Detroit, MI</td>\n",
       "      <td>FI Drum 2</td>\n",
       "      <td>20,000</td>\n",
       "      <td>Detroit</td>\n",
       "    </tr>\n",
       "    <tr>\n",
       "      <th>2</th>\n",
       "      <td>Detroit, MI</td>\n",
       "      <td>FI Drum 3</td>\n",
       "      <td>20,000</td>\n",
       "      <td>Detroit</td>\n",
       "    </tr>\n",
       "    <tr>\n",
       "      <th>3</th>\n",
       "      <td>Detroit, MI</td>\n",
       "      <td>FI Drum 4</td>\n",
       "      <td>20,000</td>\n",
       "      <td>Detroit</td>\n",
       "    </tr>\n",
       "    <tr>\n",
       "      <th>4</th>\n",
       "      <td>Detroit, MI</td>\n",
       "      <td>FI Drum 5</td>\n",
       "      <td>20,000</td>\n",
       "      <td>Detroit</td>\n",
       "    </tr>\n",
       "    <tr>\n",
       "      <th>5</th>\n",
       "      <td>Detroit, MI</td>\n",
       "      <td>FI Drum 6</td>\n",
       "      <td>20,000</td>\n",
       "      <td>Detroit</td>\n",
       "    </tr>\n",
       "    <tr>\n",
       "      <th>6</th>\n",
       "      <td>Detroit, MI</td>\n",
       "      <td>FI Drum 7</td>\n",
       "      <td>20,000</td>\n",
       "      <td>Detroit</td>\n",
       "    </tr>\n",
       "    <tr>\n",
       "      <th>7</th>\n",
       "      <td>Detroit, MI</td>\n",
       "      <td>FI Drum 8</td>\n",
       "      <td>20,000</td>\n",
       "      <td>Detroit</td>\n",
       "    </tr>\n",
       "  </tbody>\n",
       "</table>\n",
       "</div>"
      ],
      "text/plain": [
       "          Site Drum Number Capacity Location\n",
       "0  Detroit, MI   FI Drum 1   20,000  Detroit\n",
       "1  Detroit, MI   FI Drum 2   20,000  Detroit\n",
       "2  Detroit, MI   FI Drum 3   20,000  Detroit\n",
       "3  Detroit, MI   FI Drum 4   20,000  Detroit\n",
       "4  Detroit, MI   FI Drum 5   20,000  Detroit\n",
       "5  Detroit, MI   FI Drum 6   20,000  Detroit\n",
       "6  Detroit, MI   FI Drum 7   20,000  Detroit\n",
       "7  Detroit, MI   FI Drum 8   20,000  Detroit"
      ]
     },
     "execution_count": 42,
     "metadata": {},
     "output_type": "execute_result"
    }
   ],
   "source": [
    "pi_drum_df[pi_drum_df['Location'] == 'Detroit']"
   ]
  },
  {
   "cell_type": "code",
   "execution_count": null,
   "metadata": {},
   "outputs": [],
   "source": []
  }
 ],
 "metadata": {
  "kernelspec": {
   "display_name": "Python 3",
   "language": "python",
   "name": "python3"
  },
  "language_info": {
   "codemirror_mode": {
    "name": "ipython",
    "version": 3
   },
   "file_extension": ".py",
   "mimetype": "text/x-python",
   "name": "python",
   "nbconvert_exporter": "python",
   "pygments_lexer": "ipython3",
   "version": "3.7.5"
  }
 },
 "nbformat": 4,
 "nbformat_minor": 4
}
