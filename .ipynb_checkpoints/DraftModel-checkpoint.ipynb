{
 "cells": [
  {
   "cell_type": "code",
   "execution_count": 12,
   "metadata": {},
   "outputs": [],
   "source": [
    "from docplex.cp.model import CpoModel"
   ]
  },
  {
   "cell_type": "code",
   "execution_count": 13,
   "metadata": {},
   "outputs": [],
   "source": [
    "import pandas as pd \n",
    "import numpy as np"
   ]
  },
  {
   "cell_type": "markdown",
   "metadata": {},
   "source": [
    "# Step 1:  \n",
    "Define the model"
   ]
  },
  {
   "cell_type": "code",
   "execution_count": 15,
   "metadata": {},
   "outputs": [],
   "source": [
    "m  = CpoModel(name='informs')"
   ]
  },
  {
   "cell_type": "markdown",
   "metadata": {},
   "source": [
    "# Step 2:\n",
    "Load data table\n"
   ]
  },
  {
   "cell_type": "markdown",
   "metadata": {},
   "source": [
    "# RMI Step"
   ]
  },
  {
   "cell_type": "code",
   "execution_count": 7,
   "metadata": {},
   "outputs": [],
   "source": [
    "# Read file\n",
    "rmi_inventory_df = pd.read_csv(r'C:\\Users\\hoang\\Google Drive\\INFORM_COMPETITION\\DATA\\Table 2\\RMI Inventory Level.csv')\n",
    "\n",
    "# Filter only detroit factory\n",
    "#rmi_inventory_df_detroit =  rmi_inventory_df[rmi_inventory_df['Location Name'] == 'Detroit, MI']\n",
    "\n",
    "# Count number of uniques drum & color\n",
    "#count_rmi_drum = rmi_inventory_df_detroit['RMI Drum'].unique().size\n",
    "#count_color = rmi_inventory_df_detroit['Color'].unique().size\n",
    "\n",
    "# Create a dictionary store capacity & qty for each drum\n",
    "\n",
    "# Create list\n",
    "rmi_location = rmi_inventory_df['Location']\n",
    "rmi_capacity = rmi_inventory_df['Capacity']\n",
    "rmi_drum =  rmi_inventory_df['RMI Drum']\n",
    "rmi_color = rmi_inventory_df['Color']\n",
    "rmi_qty = rmi_inventory_df['Qty in pounds']\n",
    "\n",
    "# Create list to store location & drum together\n",
    "rmi_loc_drum_list = list(zip(rmi_location,rmi_drum))\n",
    "\n",
    "# Create dictionary\n",
    "rmi_loc_drum_color_dict = dict(zip(rmi_loc_drum_list,rmi_color))\n",
    "\n",
    "rmi_loc_drum_cap_dict = dict(zip(rmi_loc_drum_list,rmi_capacity))\n",
    "\n",
    "rmi_loc_drum_qty_dict = dict(zip(rmi_loc_drum_list,rmi_qty))"
   ]
  },
  {
   "cell_type": "markdown",
   "metadata": {},
   "source": [
    "# Clasifier Step"
   ]
  },
  {
   "cell_type": "code",
   "execution_count": 8,
   "metadata": {},
   "outputs": [],
   "source": [
    "# Read file\n",
    "classifier_split_df = pd.read_csv(r'C:\\Users\\hoang\\Google Drive\\INFORM_COMPETITION\\DATA\\Table 3\\Classifier Split.csv')\n",
    "\n",
    "# Rename columns: Fix space after column name\n",
    "classifier_split_df.columns = ['Color','Size','Percentage']\n",
    "\n",
    "# Define all the colors\n",
    "cs_color = classifier_split_df['Color']\n",
    "# Define all size\n",
    "cs_size = classifier_split_df['Size']\n",
    "# Store percentage split in list\n",
    "cs_pct_split = classifier_split_df['Percentage']\n",
    "\n",
    "# Combine color and size (tuple)\n",
    "cs_color_size_list = list(zip(cs_color,cs_size))\n",
    "# Dictionary for classifer for each color and size percentage\n",
    "cs_color_size_pct_dict = dict(zip(cs_color_size_list,cs_pct_split))"
   ]
  },
  {
   "cell_type": "markdown",
   "metadata": {},
   "source": [
    "# PFI Step"
   ]
  },
  {
   "cell_type": "code",
   "execution_count": 9,
   "metadata": {},
   "outputs": [],
   "source": [
    "# Read file\n",
    "pfi_drum_df = pd.read_csv(r'C:\\Users\\hoang\\Google Drive\\INFORM_COMPETITION\\DATA\\Table 7\\Pre-finish Inventory Drum.csv')\n",
    "\n",
    "# Filter only for detroits\n",
    "#pfi_drum_detroit_df =  pfi_drum_df[pfi_drum_df['Site'] == 'Detroit, MI']\n",
    "\n",
    "# Create list for location & capacity & drum\n",
    "pfi_location = pfi_drum_df['Location']\n",
    "pfi_capacity = pfi_drum_df['Capacity In pounds']\n",
    "pfi_drum = pfi_drum_df['Drum Number']\n",
    "\n",
    "# Define list zip location and drum\n",
    "pfi_loc_drum = list(zip(pfi_location,pfi_drum))\n",
    "\n",
    "# Define dictionary\n",
    "pfi_loc_drum_cap_dict = dict(zip(pfi_loc_drum,pfi_capacity))"
   ]
  },
  {
   "cell_type": "markdown",
   "metadata": {},
   "source": [
    "# PI Step"
   ]
  },
  {
   "cell_type": "code",
   "execution_count": 10,
   "metadata": {},
   "outputs": [],
   "source": [
    "# Read file\n",
    "pi_drum_df = pd.read_csv(r'C:\\Users\\hoang\\Google Drive\\INFORM_COMPETITION\\DATA\\Table 8\\Pack inventory Drum.csv')\n",
    "\n",
    "# Filter only for detroits\n",
    "#pi_drum_detroit_df =  pi_drum_df[pi_drum_df['Site'] == 'Detroit, MI']\n",
    "\n",
    "pi_location = pi_drum_df['Location']\n",
    "pi_capacity = pi_drum_df['Capacity']\n",
    "pi_drum = pi_drum_df['Drum Number']\n",
    "\n",
    "# Define list\n",
    "pi_loc_drum = list(zip(pi_location,pi_drum))\n",
    "\n",
    "# Define dictionary\n",
    "pi_loc_drum_cap_dict = dict(zip(pi_loc_drum,pi_capacity))"
   ]
  },
  {
   "cell_type": "markdown",
   "metadata": {},
   "source": [
    "# Classifer Rate"
   ]
  },
  {
   "cell_type": "code",
   "execution_count": 11,
   "metadata": {},
   "outputs": [],
   "source": [
    "# Read file\n",
    "classifier_df = pd.read_csv(r'C:\\Users\\hoang\\Google Drive\\INFORM_COMPETITION\\DATA\\Table 9\\Classifier.csv')\n",
    "\n",
    "cl_site = classifier_df['Site']\n",
    "cl_processing_rate = classifier_df['Processing_Rate']\n",
    "\n",
    "cl_rate_dict = dict(zip(cl_site,cl_processing_rate))"
   ]
  },
  {
   "cell_type": "markdown",
   "metadata": {},
   "source": [
    "# Pre-finish Rate"
   ]
  },
  {
   "cell_type": "code",
   "execution_count": 12,
   "metadata": {},
   "outputs": [],
   "source": [
    "# Read file\n",
    "pre_finish_df = pd.read_csv(r'C:\\Users\\hoang\\Google Drive\\INFORM_COMPETITION\\DATA\\Table 10\\Pre-finish.csv')\n",
    "# Use average rate\n",
    "pre_finish_df_new = pre_finish_df.groupby(['Site','Size','Flavor'],as_index= False).mean()\n",
    "\n",
    "#\n",
    "#pre_finish_detroit_df = pre_finish_df[pre_finish_df['Site'] =='Detroit']\n",
    "\n",
    "pf_site = pre_finish_df_new['Site']\n",
    "pf_size = pre_finish_df_new['Size']\n",
    "pf_flavor = pre_finish_df_new['Flavor']\n",
    "pf_processing_rate = pre_finish_df_new['Processing_Rate']\n",
    "\n",
    "# Define list\n",
    "pf_site_size_color_rate_list = list(zip(pf_site,pf_size,pf_flavor))\n",
    "\n",
    "# Define dictionary to store processing rate\n",
    "pf_site_size_color_rate_dict = dict(zip(pf_site_size_color_rate_list,pf_processing_rate))"
   ]
  },
  {
   "cell_type": "markdown",
   "metadata": {},
   "source": [
    "# Step 3: Declare variables\n",
    "\n",
    "Factory:\n",
    "- Location: Detroit\n",
    "- Number of RMI Drum: 40\n",
    "- Color: 33"
   ]
  },
  {
   "cell_type": "code",
   "execution_count": 32,
   "metadata": {},
   "outputs": [],
   "source": [
    "# 1 Workorder\n",
    "work_order = range(1,2)\n",
    "\n",
    "# 1 Factories\n",
    "factory = range(1,2)\n",
    "\n",
    "# 2 Colors\n",
    "color = range(1,3)\n",
    "\n",
    "# 2 Sizes\n",
    "size = range(1,3)\n",
    "\n",
    "# 2 Flavors\n",
    "flavor = range(1,3)\n",
    "\n",
    "# 2 Packages type\n",
    "package = range(1,3)"
   ]
  },
  {
   "cell_type": "code",
   "execution_count": 10,
   "metadata": {},
   "outputs": [
    {
     "ename": "AttributeError",
     "evalue": "'Model' object has no attribute 'interval_var'",
     "output_type": "error",
     "traceback": [
      "\u001b[1;31m---------------------------------------------------------------------------\u001b[0m",
      "\u001b[1;31mAttributeError\u001b[0m                            Traceback (most recent call last)",
      "\u001b[1;32m<ipython-input-10-086257e468e7>\u001b[0m in \u001b[0;36m<module>\u001b[1;34m\u001b[0m\n\u001b[1;32m----> 1\u001b[1;33m \u001b[0mmasonry\u001b[0m \u001b[1;33m=\u001b[0m \u001b[0mm\u001b[0m\u001b[1;33m.\u001b[0m\u001b[0minterval_var\u001b[0m\u001b[1;33m(\u001b[0m\u001b[0msize\u001b[0m\u001b[1;33m=\u001b[0m\u001b[1;36m35\u001b[0m\u001b[1;33m)\u001b[0m\u001b[1;33m\u001b[0m\u001b[1;33m\u001b[0m\u001b[0m\n\u001b[0m",
      "\u001b[1;31mAttributeError\u001b[0m: 'Model' object has no attribute 'interval_var'"
     ]
    }
   ],
   "source": [
    "masonry = m.interval_var(size=35)"
   ]
  },
  {
   "cell_type": "code",
   "execution_count": null,
   "metadata": {},
   "outputs": [],
   "source": []
  }
 ],
 "metadata": {
  "kernelspec": {
   "display_name": "Python 3",
   "language": "python",
   "name": "python3"
  },
  "language_info": {
   "codemirror_mode": {
    "name": "ipython",
    "version": 3
   },
   "file_extension": ".py",
   "mimetype": "text/x-python",
   "name": "python",
   "nbconvert_exporter": "python",
   "pygments_lexer": "ipython3",
   "version": "3.7.5"
  }
 },
 "nbformat": 4,
 "nbformat_minor": 4
}
