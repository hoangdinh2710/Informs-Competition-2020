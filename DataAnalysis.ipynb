{
 "cells": [
  {
   "cell_type": "code",
   "execution_count": 3,
   "metadata": {},
   "outputs": [],
   "source": [
    "import pandas as pd\n",
    "import numpy as np"
   ]
  },
  {
   "cell_type": "markdown",
   "metadata": {},
   "source": [
    "# Classifer Rate (Reference)"
   ]
  },
  {
   "cell_type": "code",
   "execution_count": 4,
   "metadata": {},
   "outputs": [],
   "source": [
    "# Read file\n",
    "classifier_df = pd.read_csv(r'C:\\Users\\hoang\\Google Drive\\INFORM_COMPETITION\\DATA\\Table 9\\Classifier.csv')\n",
    "\n",
    "cl_site = classifier_df['Site']\n",
    "cl_processing_rate = classifier_df['Processing_Rate']\n",
    "\n",
    "cl_rate_dict = dict(zip(cl_site,cl_processing_rate))"
   ]
  },
  {
   "cell_type": "markdown",
   "metadata": {},
   "source": [
    "# Pre-finish Rate (Reference)"
   ]
  },
  {
   "cell_type": "code",
   "execution_count": 5,
   "metadata": {},
   "outputs": [],
   "source": [
    "# Read file\n",
    "pre_finish_df = pd.read_csv(r'C:\\Users\\hoang\\Google Drive\\INFORM_COMPETITION\\DATA\\Table 10\\Pre-finish.csv')\n",
    "# Use average rate\n",
    "pre_finish_df_new = pre_finish_df.groupby(['Site','Size','Flavor'],as_index= False).mean()\n",
    "\n",
    "#\n",
    "#pre_finish_detroit_df = pre_finish_df[pre_finish_df['Site'] =='Detroit']\n",
    "\n",
    "pf_site = pre_finish_df_new['Site']\n",
    "pf_size = pre_finish_df_new['Size']\n",
    "pf_flavor = pre_finish_df_new['Flavor']\n",
    "pf_processing_rate = pre_finish_df_new['Processing_Rate']\n",
    "\n",
    "# Define list\n",
    "pf_site_size_color_rate_list = list(zip(pf_site,pf_size,pf_flavor))\n",
    "\n",
    "# Define dictionary to store processing rate\n",
    "pf_site_size_color_rate_dict = dict(zip(pf_site_size_color_rate_list,pf_processing_rate))"
   ]
  },
  {
   "cell_type": "markdown",
   "metadata": {},
   "source": [
    "# RMI Step (Raw Material Inventory Store)"
   ]
  },
  {
   "cell_type": "code",
   "execution_count": 6,
   "metadata": {},
   "outputs": [],
   "source": [
    "# Read file\n",
    "rmi_inventory_df = pd.read_csv(r'C:\\Users\\hoang\\Google Drive\\INFORM_COMPETITION\\DATA\\Table 2\\RMI Inventory Level.csv')\n",
    "\n",
    "# Create a dictionary store capacity & qty for each drum\n",
    "\n",
    "# Create list\n",
    "rmi_location = rmi_inventory_df['Location']\n",
    "rmi_capacity = rmi_inventory_df['Capacity']\n",
    "rmi_drum =  rmi_inventory_df['RMI Drum']\n",
    "rmi_color = rmi_inventory_df['Color']\n",
    "rmi_qty = rmi_inventory_df['Qty in pounds']\n",
    "\n",
    "# Create list to store location & drum together\n",
    "rmi_loc_drum_list = list(zip(rmi_location,rmi_drum))\n",
    "\n",
    "# Create dictionary\n",
    "rmi_loc_drum_color_dict = dict(zip(rmi_loc_drum_list,rmi_color))\n",
    "\n",
    "rmi_loc_drum_cap_dict = dict(zip(rmi_loc_drum_list,rmi_capacity))\n",
    "\n",
    "rmi_loc_drum_qty_dict = dict(zip(rmi_loc_drum_list,rmi_qty))\n",
    "\n",
    "# Create new column to calculate the processing rate\n",
    "condition = [rmi_inventory_df['Location'] == 'Detroit',\n",
    "            rmi_inventory_df['Location'] == 'Columbus',\n",
    "            rmi_inventory_df['Location'] == 'Green Bay',\n",
    "            rmi_inventory_df['Location'] == 'Springfield',\n",
    "            rmi_inventory_df['Location'] == 'Omaha']\n",
    "\n",
    "choice = [3420,2280,2050,1260,4440]\n",
    "\n",
    "rmi_inventory_df['Rate'] = np.select(condition,choice, default=0)\n",
    "rmi_inventory_df['TimeProcess'] = rmi_inventory_df['Qty in pounds'] / rmi_inventory_df['Rate'] \n",
    "\n",
    "# fill na in rmi_inventory_df['TimeProcess']\n",
    "\n",
    "rmi_inventory_df['TimeProcess'] = rmi_inventory_df['TimeProcess'].fillna(0)\n",
    "# Create list\n",
    "rmi_time_process= rmi_inventory_df['TimeProcess']\n",
    "# Create dictionary to record time to process \n",
    "\n",
    "rmi_loc_drum_timeprocess_dict = dict(zip(rmi_loc_drum_list,rmi_time_process))"
   ]
  },
  {
   "cell_type": "markdown",
   "metadata": {},
   "source": [
    "# Clasifier Step (Split into 5 sizes)"
   ]
  },
  {
   "cell_type": "code",
   "execution_count": 7,
   "metadata": {},
   "outputs": [],
   "source": [
    "# Read file\n",
    "cs_df = pd.read_csv(r'C:\\Users\\hoang\\Google Drive\\INFORM_COMPETITION\\DATA\\Table 3\\Classifier Split.csv')\n",
    "\n",
    "# Rename columns: Fix space after column name\n",
    "cs_df.columns = ['Color','Size','Percentage']\n",
    "\n",
    "# Define all the colors\n",
    "cs_color = cs_df['Color']\n",
    "# Define all size\n",
    "cs_size = cs_df['Size']\n",
    "# Store percentage split in list\n",
    "cs_pct_split = cs_df['Percentage']\n",
    "\n",
    "# Combine color and size (tuple)\n",
    "cs_color_size_list = list(zip(cs_color,cs_size))\n",
    "# Dictionary for classifer for each color and size percentage\n",
    "cs_color_size_pct_dict = dict(zip(cs_color_size_list,cs_pct_split))"
   ]
  },
  {
   "cell_type": "markdown",
   "metadata": {},
   "source": [
    "# PFI Step (Pre-finish Inventory: store in different drum: unique color & sizes)"
   ]
  },
  {
   "cell_type": "code",
   "execution_count": 8,
   "metadata": {},
   "outputs": [],
   "source": [
    "# Read file\n",
    "pfi_df = pd.read_csv(r'C:\\Users\\hoang\\Google Drive\\INFORM_COMPETITION\\DATA\\Table 7\\Pre-finish Inventory Drum.csv')\n",
    "\n",
    "# Filter only for detroits\n",
    "#pfi_drum_detroit_df =  pfi_drum_df[pfi_drum_df['Site'] == 'Detroit, MI']\n",
    "\n",
    "# Create list for location & capacity & drum\n",
    "pfi_location = pfi_df['Location']\n",
    "pfi_capacity = pfi_df['Capacity In pounds']\n",
    "pfi_drum = pfi_df['Drum Number']\n",
    "\n",
    "# Define list zip location and drum\n",
    "pfi_loc_drum_list = list(zip(pfi_location,pfi_drum))\n",
    "\n",
    "# Define dictionary\n",
    "pfi_loc_drum_cap_dict = dict(zip(pfi_loc_drum_list,pfi_capacity))"
   ]
  },
  {
   "cell_type": "markdown",
   "metadata": {},
   "source": [
    "# PFO Step (Pre-finish Operation: adding Flavors)"
   ]
  },
  {
   "cell_type": "markdown",
   "metadata": {},
   "source": [
    "# FI Step ( Finishing Inventory: store in different drum: unique color & sizes & flavors)"
   ]
  },
  {
   "cell_type": "code",
   "execution_count": 9,
   "metadata": {},
   "outputs": [],
   "source": [
    "# Read file\n",
    "fi_df = pd.read_csv(r'C:\\Users\\hoang\\Google Drive\\INFORM_COMPETITION\\DATA\\Table 8\\Pack inventory Drum.csv')\n",
    "\n",
    "# Filter only for detroits\n",
    "#pi_drum_detroit_df =  pi_drum_df[pi_drum_df['Site'] == 'Detroit, MI']\n",
    "\n",
    "fi_location = fi_df['Location']\n",
    "fi_capacity = fi_df['Capacity']\n",
    "fi_drum = fi_df['Drum Number']\n",
    "\n",
    "# Define list\n",
    "fi_loc_drum = list(zip(fi_location,fi_drum))\n",
    "\n",
    "# Define dictionary\n",
    "fi_loc_drum_cap_dict = dict(zip(fi_loc_drum,fi_capacity))"
   ]
  },
  {
   "cell_type": "markdown",
   "metadata": {},
   "source": [
    "# PA Step ( Packaging)"
   ]
  },
  {
   "cell_type": "code",
   "execution_count": 10,
   "metadata": {},
   "outputs": [
    {
     "data": {
      "text/html": [
       "<div>\n",
       "<style scoped>\n",
       "    .dataframe tbody tr th:only-of-type {\n",
       "        vertical-align: middle;\n",
       "    }\n",
       "\n",
       "    .dataframe tbody tr th {\n",
       "        vertical-align: top;\n",
       "    }\n",
       "\n",
       "    .dataframe thead th {\n",
       "        text-align: right;\n",
       "    }\n",
       "</style>\n",
       "<table border=\"1\" class=\"dataframe\">\n",
       "  <thead>\n",
       "    <tr style=\"text-align: right;\">\n",
       "      <th></th>\n",
       "      <th>Site</th>\n",
       "      <th>Classifier</th>\n",
       "      <th>Processing_Rate</th>\n",
       "    </tr>\n",
       "  </thead>\n",
       "  <tbody>\n",
       "    <tr>\n",
       "      <th>0</th>\n",
       "      <td>Detroit</td>\n",
       "      <td>Classifier 1</td>\n",
       "      <td>3420</td>\n",
       "    </tr>\n",
       "    <tr>\n",
       "      <th>1</th>\n",
       "      <td>Columbus</td>\n",
       "      <td>Classifier 2</td>\n",
       "      <td>2280</td>\n",
       "    </tr>\n",
       "    <tr>\n",
       "      <th>2</th>\n",
       "      <td>Green Bay</td>\n",
       "      <td>Classifier 3</td>\n",
       "      <td>2050</td>\n",
       "    </tr>\n",
       "    <tr>\n",
       "      <th>3</th>\n",
       "      <td>Springfield</td>\n",
       "      <td>Classifier 4</td>\n",
       "      <td>1260</td>\n",
       "    </tr>\n",
       "    <tr>\n",
       "      <th>4</th>\n",
       "      <td>Omaha</td>\n",
       "      <td>Classifier 5</td>\n",
       "      <td>4440</td>\n",
       "    </tr>\n",
       "  </tbody>\n",
       "</table>\n",
       "</div>"
      ],
      "text/plain": [
       "          Site    Classifier  Processing_Rate\n",
       "0      Detroit  Classifier 1             3420\n",
       "1     Columbus  Classifier 2             2280\n",
       "2    Green Bay  Classifier 3             2050\n",
       "3  Springfield  Classifier 4             1260\n",
       "4        Omaha  Classifier 5             4440"
      ]
     },
     "execution_count": 10,
     "metadata": {},
     "output_type": "execute_result"
    }
   ],
   "source": [
    "classifier_df"
   ]
  },
  {
   "cell_type": "code",
   "execution_count": 11,
   "metadata": {},
   "outputs": [
    {
     "data": {
      "text/html": [
       "<div>\n",
       "<style scoped>\n",
       "    .dataframe tbody tr th:only-of-type {\n",
       "        vertical-align: middle;\n",
       "    }\n",
       "\n",
       "    .dataframe tbody tr th {\n",
       "        vertical-align: top;\n",
       "    }\n",
       "\n",
       "    .dataframe thead th {\n",
       "        text-align: right;\n",
       "    }\n",
       "</style>\n",
       "<table border=\"1\" class=\"dataframe\">\n",
       "  <thead>\n",
       "    <tr style=\"text-align: right;\">\n",
       "      <th></th>\n",
       "      <th>Site</th>\n",
       "      <th>Size</th>\n",
       "      <th>Flavor</th>\n",
       "      <th>Processing_Rate</th>\n",
       "    </tr>\n",
       "  </thead>\n",
       "  <tbody>\n",
       "    <tr>\n",
       "      <th>0</th>\n",
       "      <td>Detroit</td>\n",
       "      <td>S1</td>\n",
       "      <td>F1</td>\n",
       "      <td>1475</td>\n",
       "    </tr>\n",
       "    <tr>\n",
       "      <th>1</th>\n",
       "      <td>Detroit</td>\n",
       "      <td>S1</td>\n",
       "      <td>F1</td>\n",
       "      <td>1309</td>\n",
       "    </tr>\n",
       "    <tr>\n",
       "      <th>2</th>\n",
       "      <td>Detroit</td>\n",
       "      <td>S1</td>\n",
       "      <td>F1</td>\n",
       "      <td>1297</td>\n",
       "    </tr>\n",
       "    <tr>\n",
       "      <th>3</th>\n",
       "      <td>Detroit</td>\n",
       "      <td>S1</td>\n",
       "      <td>F1</td>\n",
       "      <td>1363</td>\n",
       "    </tr>\n",
       "    <tr>\n",
       "      <th>4</th>\n",
       "      <td>Detroit</td>\n",
       "      <td>S1</td>\n",
       "      <td>F1</td>\n",
       "      <td>1688</td>\n",
       "    </tr>\n",
       "  </tbody>\n",
       "</table>\n",
       "</div>"
      ],
      "text/plain": [
       "      Site Size Flavor  Processing_Rate\n",
       "0  Detroit   S1     F1             1475\n",
       "1  Detroit   S1     F1             1309\n",
       "2  Detroit   S1     F1             1297\n",
       "3  Detroit   S1     F1             1363\n",
       "4  Detroit   S1     F1             1688"
      ]
     },
     "execution_count": 11,
     "metadata": {},
     "output_type": "execute_result"
    }
   ],
   "source": [
    "pre_finish_df.head()"
   ]
  },
  {
   "cell_type": "code",
   "execution_count": 12,
   "metadata": {},
   "outputs": [
    {
     "data": {
      "text/html": [
       "<div>\n",
       "<style scoped>\n",
       "    .dataframe tbody tr th:only-of-type {\n",
       "        vertical-align: middle;\n",
       "    }\n",
       "\n",
       "    .dataframe tbody tr th {\n",
       "        vertical-align: top;\n",
       "    }\n",
       "\n",
       "    .dataframe thead th {\n",
       "        text-align: right;\n",
       "    }\n",
       "</style>\n",
       "<table border=\"1\" class=\"dataframe\">\n",
       "  <thead>\n",
       "    <tr style=\"text-align: right;\">\n",
       "      <th></th>\n",
       "      <th>Location Name</th>\n",
       "      <th>RMI Drum</th>\n",
       "      <th>Color</th>\n",
       "      <th>Qty in pounds</th>\n",
       "      <th>Capacity</th>\n",
       "      <th>Location</th>\n",
       "      <th>Rate</th>\n",
       "      <th>TimeProcess</th>\n",
       "    </tr>\n",
       "  </thead>\n",
       "  <tbody>\n",
       "    <tr>\n",
       "      <th>0</th>\n",
       "      <td>Detroit, MI</td>\n",
       "      <td>RMI DRUM1</td>\n",
       "      <td>Coloring Agent21</td>\n",
       "      <td>300000.0</td>\n",
       "      <td>300,000</td>\n",
       "      <td>Detroit</td>\n",
       "      <td>3420</td>\n",
       "      <td>87.719298</td>\n",
       "    </tr>\n",
       "    <tr>\n",
       "      <th>1</th>\n",
       "      <td>Detroit, MI</td>\n",
       "      <td>RMI DRUM2</td>\n",
       "      <td>Coloring Agent19</td>\n",
       "      <td>300000.0</td>\n",
       "      <td>300,000</td>\n",
       "      <td>Detroit</td>\n",
       "      <td>3420</td>\n",
       "      <td>87.719298</td>\n",
       "    </tr>\n",
       "    <tr>\n",
       "      <th>2</th>\n",
       "      <td>Detroit, MI</td>\n",
       "      <td>RMI DRUM3</td>\n",
       "      <td>Coloring Agent16</td>\n",
       "      <td>300000.0</td>\n",
       "      <td>300,000</td>\n",
       "      <td>Detroit</td>\n",
       "      <td>3420</td>\n",
       "      <td>87.719298</td>\n",
       "    </tr>\n",
       "    <tr>\n",
       "      <th>3</th>\n",
       "      <td>Detroit, MI</td>\n",
       "      <td>RMI DRUM4</td>\n",
       "      <td>Coloring Agent28</td>\n",
       "      <td>300000.0</td>\n",
       "      <td>300,000</td>\n",
       "      <td>Detroit</td>\n",
       "      <td>3420</td>\n",
       "      <td>87.719298</td>\n",
       "    </tr>\n",
       "    <tr>\n",
       "      <th>4</th>\n",
       "      <td>Detroit, MI</td>\n",
       "      <td>RMI DRUM5</td>\n",
       "      <td>Coloring Agent25</td>\n",
       "      <td>300000.0</td>\n",
       "      <td>300,000</td>\n",
       "      <td>Detroit</td>\n",
       "      <td>3420</td>\n",
       "      <td>87.719298</td>\n",
       "    </tr>\n",
       "  </tbody>\n",
       "</table>\n",
       "</div>"
      ],
      "text/plain": [
       "  Location Name   RMI Drum             Color  Qty in pounds Capacity Location  \\\n",
       "0   Detroit, MI  RMI DRUM1  Coloring Agent21       300000.0  300,000  Detroit   \n",
       "1   Detroit, MI  RMI DRUM2  Coloring Agent19       300000.0  300,000  Detroit   \n",
       "2   Detroit, MI  RMI DRUM3  Coloring Agent16       300000.0  300,000  Detroit   \n",
       "3   Detroit, MI  RMI DRUM4  Coloring Agent28       300000.0  300,000  Detroit   \n",
       "4   Detroit, MI  RMI DRUM5  Coloring Agent25       300000.0  300,000  Detroit   \n",
       "\n",
       "   Rate  TimeProcess  \n",
       "0  3420    87.719298  \n",
       "1  3420    87.719298  \n",
       "2  3420    87.719298  \n",
       "3  3420    87.719298  \n",
       "4  3420    87.719298  "
      ]
     },
     "execution_count": 12,
     "metadata": {},
     "output_type": "execute_result"
    }
   ],
   "source": [
    "rmi_inventory_df.head()"
   ]
  },
  {
   "cell_type": "code",
   "execution_count": 19,
   "metadata": {},
   "outputs": [],
   "source": [
    "rmi_inventory_df_summary = rmi_inventory_df.groupby(['Location'],as_index= False)['Qty in pounds'].sum()"
   ]
  },
  {
   "cell_type": "code",
   "execution_count": 20,
   "metadata": {},
   "outputs": [],
   "source": [
    "rmi_inventory_df_summary.to_clipboard()"
   ]
  },
  {
   "cell_type": "code",
   "execution_count": null,
   "metadata": {},
   "outputs": [],
   "source": []
  }
 ],
 "metadata": {
  "kernelspec": {
   "display_name": "Python 3",
   "language": "python",
   "name": "python3"
  },
  "language_info": {
   "codemirror_mode": {
    "name": "ipython",
    "version": 3
   },
   "file_extension": ".py",
   "mimetype": "text/x-python",
   "name": "python",
   "nbconvert_exporter": "python",
   "pygments_lexer": "ipython3",
   "version": "3.7.5"
  }
 },
 "nbformat": 4,
 "nbformat_minor": 4
}
